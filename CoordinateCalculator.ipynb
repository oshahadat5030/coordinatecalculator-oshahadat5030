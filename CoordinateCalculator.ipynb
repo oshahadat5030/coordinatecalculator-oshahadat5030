{
 "cells": [
  {
   "cell_type": "markdown",
   "id": "1b31be22",
   "metadata": {},
   "source": [
    "# Geographic Coordinate Converter\n",
    "\n",
    "Converts a geographic coordinate in DDMMSS format to DD"
   ]
  },
  {
   "cell_type": "markdown",
   "id": "220c42ad",
   "metadata": {},
   "source": [
    "Step 1 - Use the Python input function to prompt a user to enter a geographic coordinate in DDMMSS format (e.g., 391120)."
   ]
  },
  {
   "cell_type": "code",
   "execution_count": null,
   "id": "16f5440b",
   "metadata": {},
   "outputs": [],
   "source": [
    "x = input(\"Please enter a coordinate in DDMMSS format\")"
   ]
  },
  {
   "cell_type": "markdown",
   "id": "50c7e956",
   "metadata": {},
   "source": [
    "Step 2 - Determine the data type of x and print its value before moving forward."
   ]
  },
  {
   "cell_type": "code",
   "execution_count": null,
   "id": "2a5030b7",
   "metadata": {},
   "outputs": [],
   "source": [
    "print(f\"Data type of x: {type(x)}\")"
   ]
  },
  {
   "cell_type": "code",
   "execution_count": null,
   "id": "98e7e8fb",
   "metadata": {},
   "outputs": [],
   "source": [
    "print(f\"Entered coordinate: {x}\")\n",
    "\n",
    "dd = int(x[:2])        # First two characters are degrees\n",
    "mm = int(x[2:4])       # Next two characters are minutes\n",
    "ss = int(x[4:])        # Last two characters are seconds\n",
    "\n",
    "# Convert to decimal degrees\n",
    "decimal_degrees = dd + (mm / 60) + (ss / 3600)\n",
    "\n",
    "#  Round the result to two decimal places\n",
    "decimal_degrees_rounded = round(decimal_degrees, 2)\n",
    "\n",
    "# Print the final result\n",
    "print(f\"Final result is: {decimal_degrees_rounded} degrees\")"
   ]
  }
 ],
 "metadata": {
  "kernelspec": {
   "display_name": "Python 3 (ipykernel)",
   "language": "python",
   "name": "python3"
  },
  "language_info": {
   "codemirror_mode": {
    "name": "ipython",
    "version": 3
   },
   "file_extension": ".py",
   "mimetype": "text/x-python",
   "name": "python",
   "nbconvert_exporter": "python",
   "pygments_lexer": "ipython3",
   "version": "3.9.16"
  }
 },
 "nbformat": 4,
 "nbformat_minor": 5
}
